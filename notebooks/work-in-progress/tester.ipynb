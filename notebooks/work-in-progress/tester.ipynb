{
 "metadata": {
  "language_info": {
   "codemirror_mode": {
    "name": "ipython",
    "version": 3
   },
   "file_extension": ".py",
   "mimetype": "text/x-python",
   "name": "python",
   "nbconvert_exporter": "python",
   "pygments_lexer": "ipython3",
   "version": "3.8.6-final"
  },
  "orig_nbformat": 2,
  "kernelspec": {
   "name": "python3",
   "display_name": "Python 3",
   "language": "python"
  }
 },
 "nbformat": 4,
 "nbformat_minor": 2,
 "cells": [
  {
   "cell_type": "code",
   "execution_count": 1,
   "metadata": {},
   "outputs": [],
   "source": [
    "import datapackage\n",
    "import goodtables_pandas as goodtables\n",
    "import pkg_resources\n",
    "import pathlib"
   ]
  },
  {
   "cell_type": "code",
   "execution_count": 3,
   "metadata": {},
   "outputs": [],
   "source": [
    "datapkg_json = pathlib.Path(r\"C:\\Users\\Greg\\pudl_workspace\\datapkg\\to_sqlite\\eia\\datapackage.json\")\n",
    "report = goodtables.validate(str(datapkg_json))"
   ]
  },
  {
   "cell_type": "code",
   "execution_count": 18,
   "metadata": {},
   "outputs": [
    {
     "output_type": "execute_result",
     "data": {
      "text/plain": [
       "'..\\\\..\\\\..\\\\..\\\\pudl_workspace\\\\datapkg\\\\to_sqlite\\\\eia\\\\data\\\\utilities_pudl.csv'"
      ]
     },
     "metadata": {},
     "execution_count": 18
    }
   ],
   "source": [
    "report['tables'][23]['path']\n"
   ]
  },
  {
   "cell_type": "code",
   "execution_count": null,
   "metadata": {},
   "outputs": [],
   "source": []
  }
 ]
}
