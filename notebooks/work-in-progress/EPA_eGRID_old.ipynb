{
 "metadata": {
  "language_info": {
   "codemirror_mode": {
    "name": "ipython",
    "version": 3
   },
   "file_extension": ".py",
   "mimetype": "text/x-python",
   "name": "python",
   "nbconvert_exporter": "python",
   "pygments_lexer": "ipython3",
   "version": "3.8.6-final"
  },
  "orig_nbformat": 2,
  "kernelspec": {
   "name": "python3",
   "display_name": "Python 3.8.6 64-bit ('pudl-dev': conda)",
   "metadata": {
    "interpreter": {
     "hash": "c9a2036cfbd8ea0580a1643962a530f51a1689ea127e0fb744cea601172db5ec"
    }
   }
  }
 },
 "nbformat": 4,
 "nbformat_minor": 2,
 "cells": [
  {
   "source": [
    "## Process\n",
    "\n",
    "- [ ] Load CEMS data and perform initial cleaning\n",
    "    - [ ] Crosswalk the CAMD ids to EIA ids\n",
    "    - [ ] Convert UTC timestamps to local time to assist with merging EIA data\n",
    "- [ ] Determine the primary fuel type for each EPA unit \n",
    "- [ ] Determine boiler type for each EPA unit\n",
    "- [ ] Fill missing CO2, NOx and SOx data using fuel type, boiler type, and heat input\n",
    "    - [ ] For observations with heat input but no measured emissions, estimate emissions based on factors\n",
    "    - [ ] Aggregate data to monthly level. For units that have no reported data for a specific month, check if data for that month was reported to EIA and merge in the heat input data if available. Use the monthly heat input data to estimate emissions.\n",
    "    - [ ] test\n",
    "    \n",
    "\n",
    "### Updates to PUDL\n",
    " - Need to load boiler firing type data from EIA-860\n",
    " - In CEMS data package, change plant_id_eia to plant_id_camd"
   ],
   "cell_type": "markdown",
   "metadata": {}
  },
  {
   "cell_type": "code",
   "execution_count": 3,
   "metadata": {},
   "outputs": [
    {
     "output_type": "stream",
     "name": "stdout",
     "text": [
      "The autoreload extension is already loaded. To reload it, use:\n  %reload_ext autoreload\n"
     ]
    }
   ],
   "source": [
    "%load_ext autoreload\n",
    "%autoreload 2\n",
    "\n",
    "# Standard libraries\n",
    "import logging\n",
    "import sys\n",
    "import os\n",
    "import pathlib\n",
    "\n",
    "# 3rd party libraries\n",
    "import dask.dataframe as dd\n",
    "from dask.distributed import Client\n",
    "import numpy as np\n",
    "import pandas as pd\n",
    "import sqlalchemy as sa\n",
    "import importlib\n",
    "\n",
    "# Local libraries\n",
    "import pudl\n",
    "from pudl.analysis import egrid"
   ]
  },
  {
   "cell_type": "code",
   "execution_count": 2,
   "metadata": {},
   "outputs": [
    {
     "output_type": "display_data",
     "data": {
      "text/plain": "{'pudl_in': 'C:\\\\Users\\\\Greg\\\\pudl_workspace',\n 'data_dir': 'C:\\\\Users\\\\Greg\\\\pudl_workspace\\\\data',\n 'settings_dir': 'C:\\\\Users\\\\Greg\\\\pudl_workspace\\\\settings',\n 'pudl_out': 'C:\\\\Users\\\\Greg\\\\pudl_workspace',\n 'sqlite_dir': 'C:\\\\Users\\\\Greg\\\\pudl_workspace\\\\sqlite',\n 'parquet_dir': 'C:\\\\Users\\\\Greg\\\\pudl_workspace\\\\parquet',\n 'datapkg_dir': 'C:\\\\Users\\\\Greg\\\\pudl_workspace\\\\datapkg',\n 'notebook_dir': 'C:\\\\Users\\\\Greg\\\\pudl_workspace\\\\notebook',\n 'ferc1_db': 'sqlite:///C:\\\\Users\\\\Greg\\\\pudl_workspace\\\\sqlite\\\\ferc1.sqlite',\n 'pudl_db': 'sqlite:///C:\\\\Users\\\\Greg\\\\pudl_workspace\\\\sqlite\\\\pudl.sqlite'}"
     },
     "metadata": {}
    }
   ],
   "source": [
    "pudl_settings = pudl.workspace.setup.get_defaults()\n",
    "display(pudl_settings)\n",
    "\n",
    "pudl_engine = sa.create_engine(pudl_settings['pudl_db'])\n",
    "#display(pudl_engine)\n",
    "\n",
    "year = 2018"
   ]
  },
  {
   "source": [
    "### Read CEMS data from parquet\n",
    "\n",
    "Available columns in CEMS\n",
    "\\['plant_id_eia', 'unitid', 'operating_datetime_utc',\n",
    "'operating_time_hours', 'gross_load_mw', 'steam_load_1000_lbs',\n",
    "'so2_mass_lbs', 'so2_mass_measurement_code', 'nox_rate_lbs_mmbtu',\n",
    "'nox_rate_measurement_code', 'nox_mass_lbs',\n",
    "'nox_mass_measurement_code', 'co2_mass_tons',\n",
    "'co2_mass_measurement_code', 'heat_content_mmbtu', 'facility_id',\n",
    "'unit_id_epa', 'state'\\]"
   ],
   "cell_type": "markdown",
   "metadata": {}
  },
  {
   "cell_type": "code",
   "execution_count": 33,
   "metadata": {},
   "outputs": [
    {
     "output_type": "execute_result",
     "data": {
      "text/plain": [
       "   plant_id_camd unit_id_camd    operating_datetime_utc  operating_time_hours  \\\n",
       "0              3            1 2018-01-01 06:00:00+00:00                   1.0   \n",
       "1              3            1 2018-01-01 07:00:00+00:00                   1.0   \n",
       "2              3            1 2018-01-01 08:00:00+00:00                   1.0   \n",
       "\n",
       "   gross_load_mw  steam_load_1000_lbs  so2_mass_lbs  nox_rate_lbs_mmbtu  \\\n",
       "0           27.0                  NaN         4.250               0.082   \n",
       "1           29.0                  NaN         4.402               0.083   \n",
       "2           32.0                  NaN         4.664               0.083   \n",
       "\n",
       "   nox_mass_lbs  co2_mass_tons  heat_content_mmbtu  plant_id_eia  \n",
       "0        31.350         22.650          382.399994           3.0  \n",
       "1        32.987         23.562          397.399994           3.0  \n",
       "2        35.902         25.652          432.399994           3.0  "
      ],
      "text/html": "<div>\n<style scoped>\n    .dataframe tbody tr th:only-of-type {\n        vertical-align: middle;\n    }\n\n    .dataframe tbody tr th {\n        vertical-align: top;\n    }\n\n    .dataframe thead th {\n        text-align: right;\n    }\n</style>\n<table border=\"1\" class=\"dataframe\">\n  <thead>\n    <tr style=\"text-align: right;\">\n      <th></th>\n      <th>plant_id_camd</th>\n      <th>unit_id_camd</th>\n      <th>operating_datetime_utc</th>\n      <th>operating_time_hours</th>\n      <th>gross_load_mw</th>\n      <th>steam_load_1000_lbs</th>\n      <th>so2_mass_lbs</th>\n      <th>nox_rate_lbs_mmbtu</th>\n      <th>nox_mass_lbs</th>\n      <th>co2_mass_tons</th>\n      <th>heat_content_mmbtu</th>\n      <th>plant_id_eia</th>\n    </tr>\n  </thead>\n  <tbody>\n    <tr>\n      <th>0</th>\n      <td>3</td>\n      <td>1</td>\n      <td>2018-01-01 06:00:00+00:00</td>\n      <td>1.0</td>\n      <td>27.0</td>\n      <td>NaN</td>\n      <td>4.250</td>\n      <td>0.082</td>\n      <td>31.350</td>\n      <td>22.650</td>\n      <td>382.399994</td>\n      <td>3.0</td>\n    </tr>\n    <tr>\n      <th>1</th>\n      <td>3</td>\n      <td>1</td>\n      <td>2018-01-01 07:00:00+00:00</td>\n      <td>1.0</td>\n      <td>29.0</td>\n      <td>NaN</td>\n      <td>4.402</td>\n      <td>0.083</td>\n      <td>32.987</td>\n      <td>23.562</td>\n      <td>397.399994</td>\n      <td>3.0</td>\n    </tr>\n    <tr>\n      <th>2</th>\n      <td>3</td>\n      <td>1</td>\n      <td>2018-01-01 08:00:00+00:00</td>\n      <td>1.0</td>\n      <td>32.0</td>\n      <td>NaN</td>\n      <td>4.664</td>\n      <td>0.083</td>\n      <td>35.902</td>\n      <td>25.652</td>\n      <td>432.399994</td>\n      <td>3.0</td>\n    </tr>\n  </tbody>\n</table>\n</div>"
     },
     "metadata": {},
     "execution_count": 33
    }
   ],
   "source": [
    "\n",
    "epacems_path = pudl_settings['parquet_dir'] + f'/epacems/year={year}'\n",
    "\n",
    "my_columns = ['plant_id_eia', 'unitid', 'operating_datetime_utc',\n",
    "'operating_time_hours', 'gross_load_mw', 'steam_load_1000_lbs',\n",
    "'so2_mass_lbs', 'nox_rate_lbs_mmbtu', 'nox_mass_lbs', \n",
    "'co2_mass_tons', 'heat_content_mmbtu']\n",
    "\n",
    "cems_df = pd.read_parquet(epacems_path, columns=my_columns).query(\"operating_time_hours > 0\")  # only load observations when the plant was operating\n",
    "\n",
    "# rename cems plant_id_eia to plant_id_epa until the crosswalk integration is finished\n",
    "cems_df = cems_df.rename(columns={'plant_id_eia': 'plant_id_camd', 'unitid':'unit_id_camd'})\n",
    "cems_df.head(3)"
   ]
  },
  {
   "source": [
    "### Crosswalk the EPA plant and unit IDs to EIA plant and generator IDs"
   ],
   "cell_type": "markdown",
   "metadata": {}
  },
  {
   "cell_type": "code",
   "execution_count": 2,
   "metadata": {},
   "outputs": [
    {
     "output_type": "execute_result",
     "data": {
      "text/plain": [
       "   CAMD_ORIS_CODE CAMD_UNIT_ID  EIA_PLANT_CODE EIA_GENERATOR_ID\n",
       "0               3            1             3.0              [1]\n",
       "1               3            2             3.0              [2]\n",
       "2               3            4             3.0              [4]\n",
       "3               3            5             3.0              [5]\n",
       "4               3           6A             3.0     [A1ST, A1CT]\n",
       "5               3           6B             3.0    [A1CT2, A1ST]"
      ],
      "text/html": "<div>\n<style scoped>\n    .dataframe tbody tr th:only-of-type {\n        vertical-align: middle;\n    }\n\n    .dataframe tbody tr th {\n        vertical-align: top;\n    }\n\n    .dataframe thead th {\n        text-align: right;\n    }\n</style>\n<table border=\"1\" class=\"dataframe\">\n  <thead>\n    <tr style=\"text-align: right;\">\n      <th></th>\n      <th>CAMD_ORIS_CODE</th>\n      <th>CAMD_UNIT_ID</th>\n      <th>EIA_PLANT_CODE</th>\n      <th>EIA_GENERATOR_ID</th>\n    </tr>\n  </thead>\n  <tbody>\n    <tr>\n      <th>0</th>\n      <td>3</td>\n      <td>1</td>\n      <td>3.0</td>\n      <td>[1]</td>\n    </tr>\n    <tr>\n      <th>1</th>\n      <td>3</td>\n      <td>2</td>\n      <td>3.0</td>\n      <td>[2]</td>\n    </tr>\n    <tr>\n      <th>2</th>\n      <td>3</td>\n      <td>4</td>\n      <td>3.0</td>\n      <td>[4]</td>\n    </tr>\n    <tr>\n      <th>3</th>\n      <td>3</td>\n      <td>5</td>\n      <td>3.0</td>\n      <td>[5]</td>\n    </tr>\n    <tr>\n      <th>4</th>\n      <td>3</td>\n      <td>6A</td>\n      <td>3.0</td>\n      <td>[A1ST, A1CT]</td>\n    </tr>\n    <tr>\n      <th>5</th>\n      <td>3</td>\n      <td>6B</td>\n      <td>3.0</td>\n      <td>[A1CT2, A1ST]</td>\n    </tr>\n  </tbody>\n</table>\n</div>"
     },
     "metadata": {},
     "execution_count": 2
    }
   ],
   "source": [
    "# load epa-eia crosswalk data\n",
    "EPA_EIA_crosswalk = pd.read_csv(\"https://raw.githubusercontent.com/USEPA/camd-eia-crosswalk/master/camd_eia_crosswalk.csv\", usecols=['CAMD_ORIS_CODE','CAMD_UNIT_ID','EIA_PLANT_CODE','EIA_GENERATOR_ID'])\n",
    "\n",
    "# Because there can be multiple generators matched to a single boiler, we want to create a column that lists all of the generator IDs associated with the unit\n",
    "generator_id_list = EPA_EIA_crosswalk.groupby(['CAMD_ORIS_CODE','CAMD_UNIT_ID'])['EIA_GENERATOR_ID'].apply(list)\n",
    "\n",
    "EPA_EIA_crosswalk = EPA_EIA_crosswalk.groupby(['CAMD_ORIS_CODE','CAMD_UNIT_ID']).max()\n",
    "EPA_EIA_crosswalk = EPA_EIA_crosswalk.merge(generator_id_list, how='left', left_index=True, right_index=True).reset_index()\n",
    "EPA_EIA_crosswalk.head(6)"
   ]
  },
  {
   "cell_type": "code",
   "execution_count": 59,
   "metadata": {},
   "outputs": [
    {
     "output_type": "error",
     "ename": "KeyError",
     "evalue": "'plant_id_eia'",
     "traceback": [
      "\u001b[1;31m---------------------------------------------------------------------------\u001b[0m",
      "\u001b[1;31mKeyError\u001b[0m                                  Traceback (most recent call last)",
      "\u001b[1;32m~\\Anaconda3\\envs\\pudl-dev\\lib\\site-packages\\pandas\\core\\indexes\\base.py\u001b[0m in \u001b[0;36mget_loc\u001b[1;34m(self, key, method, tolerance)\u001b[0m\n\u001b[0;32m   3079\u001b[0m             \u001b[1;32mtry\u001b[0m\u001b[1;33m:\u001b[0m\u001b[1;33m\u001b[0m\u001b[1;33m\u001b[0m\u001b[0m\n\u001b[1;32m-> 3080\u001b[1;33m                 \u001b[1;32mreturn\u001b[0m \u001b[0mself\u001b[0m\u001b[1;33m.\u001b[0m\u001b[0m_engine\u001b[0m\u001b[1;33m.\u001b[0m\u001b[0mget_loc\u001b[0m\u001b[1;33m(\u001b[0m\u001b[0mcasted_key\u001b[0m\u001b[1;33m)\u001b[0m\u001b[1;33m\u001b[0m\u001b[1;33m\u001b[0m\u001b[0m\n\u001b[0m\u001b[0;32m   3081\u001b[0m             \u001b[1;32mexcept\u001b[0m \u001b[0mKeyError\u001b[0m \u001b[1;32mas\u001b[0m \u001b[0merr\u001b[0m\u001b[1;33m:\u001b[0m\u001b[1;33m\u001b[0m\u001b[1;33m\u001b[0m\u001b[0m\n",
      "\u001b[1;32mpandas\\_libs\\index.pyx\u001b[0m in \u001b[0;36mpandas._libs.index.IndexEngine.get_loc\u001b[1;34m()\u001b[0m\n",
      "\u001b[1;32mpandas\\_libs\\index.pyx\u001b[0m in \u001b[0;36mpandas._libs.index.IndexEngine.get_loc\u001b[1;34m()\u001b[0m\n",
      "\u001b[1;32mpandas\\_libs\\hashtable_class_helper.pxi\u001b[0m in \u001b[0;36mpandas._libs.hashtable.PyObjectHashTable.get_item\u001b[1;34m()\u001b[0m\n",
      "\u001b[1;32mpandas\\_libs\\hashtable_class_helper.pxi\u001b[0m in \u001b[0;36mpandas._libs.hashtable.PyObjectHashTable.get_item\u001b[1;34m()\u001b[0m\n",
      "\u001b[1;31mKeyError\u001b[0m: 'plant_id_eia'",
      "\nThe above exception was the direct cause of the following exception:\n",
      "\u001b[1;31mKeyError\u001b[0m                                  Traceback (most recent call last)",
      "\u001b[1;32m<ipython-input-59-213176ab9a2d>\u001b[0m in \u001b[0;36m<module>\u001b[1;34m\u001b[0m\n\u001b[0;32m      3\u001b[0m \u001b[1;33m\u001b[0m\u001b[0m\n\u001b[0;32m      4\u001b[0m \u001b[1;31m# if the merge resulted in any missing plant_id associations, fill with the epa plant_id\u001b[0m\u001b[1;33m\u001b[0m\u001b[1;33m\u001b[0m\u001b[1;33m\u001b[0m\u001b[0m\n\u001b[1;32m----> 5\u001b[1;33m cems_df['plant_id_eia'] = cems_df['plant_id_eia'].fillna(\n\u001b[0m\u001b[0;32m      6\u001b[0m     cems_df['plant_id_camd'])\n\u001b[0;32m      7\u001b[0m \u001b[1;33m\u001b[0m\u001b[0m\n",
      "\u001b[1;32m~\\Anaconda3\\envs\\pudl-dev\\lib\\site-packages\\pandas\\core\\frame.py\u001b[0m in \u001b[0;36m__getitem__\u001b[1;34m(self, key)\u001b[0m\n\u001b[0;32m   3022\u001b[0m             \u001b[1;32mif\u001b[0m \u001b[0mself\u001b[0m\u001b[1;33m.\u001b[0m\u001b[0mcolumns\u001b[0m\u001b[1;33m.\u001b[0m\u001b[0mnlevels\u001b[0m \u001b[1;33m>\u001b[0m \u001b[1;36m1\u001b[0m\u001b[1;33m:\u001b[0m\u001b[1;33m\u001b[0m\u001b[1;33m\u001b[0m\u001b[0m\n\u001b[0;32m   3023\u001b[0m                 \u001b[1;32mreturn\u001b[0m \u001b[0mself\u001b[0m\u001b[1;33m.\u001b[0m\u001b[0m_getitem_multilevel\u001b[0m\u001b[1;33m(\u001b[0m\u001b[0mkey\u001b[0m\u001b[1;33m)\u001b[0m\u001b[1;33m\u001b[0m\u001b[1;33m\u001b[0m\u001b[0m\n\u001b[1;32m-> 3024\u001b[1;33m             \u001b[0mindexer\u001b[0m \u001b[1;33m=\u001b[0m \u001b[0mself\u001b[0m\u001b[1;33m.\u001b[0m\u001b[0mcolumns\u001b[0m\u001b[1;33m.\u001b[0m\u001b[0mget_loc\u001b[0m\u001b[1;33m(\u001b[0m\u001b[0mkey\u001b[0m\u001b[1;33m)\u001b[0m\u001b[1;33m\u001b[0m\u001b[1;33m\u001b[0m\u001b[0m\n\u001b[0m\u001b[0;32m   3025\u001b[0m             \u001b[1;32mif\u001b[0m \u001b[0mis_integer\u001b[0m\u001b[1;33m(\u001b[0m\u001b[0mindexer\u001b[0m\u001b[1;33m)\u001b[0m\u001b[1;33m:\u001b[0m\u001b[1;33m\u001b[0m\u001b[1;33m\u001b[0m\u001b[0m\n\u001b[0;32m   3026\u001b[0m                 \u001b[0mindexer\u001b[0m \u001b[1;33m=\u001b[0m \u001b[1;33m[\u001b[0m\u001b[0mindexer\u001b[0m\u001b[1;33m]\u001b[0m\u001b[1;33m\u001b[0m\u001b[1;33m\u001b[0m\u001b[0m\n",
      "\u001b[1;32m~\\Anaconda3\\envs\\pudl-dev\\lib\\site-packages\\pandas\\core\\indexes\\base.py\u001b[0m in \u001b[0;36mget_loc\u001b[1;34m(self, key, method, tolerance)\u001b[0m\n\u001b[0;32m   3080\u001b[0m                 \u001b[1;32mreturn\u001b[0m \u001b[0mself\u001b[0m\u001b[1;33m.\u001b[0m\u001b[0m_engine\u001b[0m\u001b[1;33m.\u001b[0m\u001b[0mget_loc\u001b[0m\u001b[1;33m(\u001b[0m\u001b[0mcasted_key\u001b[0m\u001b[1;33m)\u001b[0m\u001b[1;33m\u001b[0m\u001b[1;33m\u001b[0m\u001b[0m\n\u001b[0;32m   3081\u001b[0m             \u001b[1;32mexcept\u001b[0m \u001b[0mKeyError\u001b[0m \u001b[1;32mas\u001b[0m \u001b[0merr\u001b[0m\u001b[1;33m:\u001b[0m\u001b[1;33m\u001b[0m\u001b[1;33m\u001b[0m\u001b[0m\n\u001b[1;32m-> 3082\u001b[1;33m                 \u001b[1;32mraise\u001b[0m \u001b[0mKeyError\u001b[0m\u001b[1;33m(\u001b[0m\u001b[0mkey\u001b[0m\u001b[1;33m)\u001b[0m \u001b[1;32mfrom\u001b[0m \u001b[0merr\u001b[0m\u001b[1;33m\u001b[0m\u001b[1;33m\u001b[0m\u001b[0m\n\u001b[0m\u001b[0;32m   3083\u001b[0m \u001b[1;33m\u001b[0m\u001b[0m\n\u001b[0;32m   3084\u001b[0m         \u001b[1;32mif\u001b[0m \u001b[0mtolerance\u001b[0m \u001b[1;32mis\u001b[0m \u001b[1;32mnot\u001b[0m \u001b[1;32mNone\u001b[0m\u001b[1;33m:\u001b[0m\u001b[1;33m\u001b[0m\u001b[1;33m\u001b[0m\u001b[0m\n",
      "\u001b[1;31mKeyError\u001b[0m: 'plant_id_eia'"
     ]
    }
   ],
   "source": [
    "\n",
    "EPA_EIA_crosswalk = EPA_EIA_crosswalk.rename(columns={'CAMD_ORIS_CODE': 'plant_id_camd', 'EIA_PLANT_CODE':'plant_id_eia', 'CAMD_UNIT_ID':'unit_id_camd','EIA_GENERATOR_ID':'generator_id_eia'})\n",
    "cems_df = cems_df.merge(EPA_EIA_crosswalk, how='left', on='plant_id_camd')\n",
    "\n",
    "# if the merge resulted in any missing plant_id associations, fill with the epa plant_id\n",
    "cems_df['plant_id_eia'] = cems_df['plant_id_eia'].fillna(\n",
    "    cems_df['plant_id_camd'])\n",
    "\n",
    "# EPA's eGRID documentation identifies several plants that are not grid-connected and should be removed\n",
    "non_grid_connected_plant_ids = list(pd.read_csv(importlib.resources.open_text(\n",
    "        'pudl.package_data.epa.egrid', 'table_4-2_plants_not_connected_to_grid.csv'),\n",
    "        usecols=['Plant ID'])['Plant ID'])\n",
    "cems_df = cems_df[~cems_df['plant_id_eia'].isin(non_grid_connected_plant_ids)]\n",
    "\n",
    "#if any co2_mass_tons is reported as zero (while the plant was operating), change this to a missing value so that it can be calculated\n",
    "cems_df['co2_mass_tons'] = cems_df['co2_mass_tons'].replace({0:np.nan})\n",
    "\n",
    "cems_df.head(3)"
   ]
  },
  {
   "source": [
    "### Add local datetime and report month\n",
    "This will allow us to merge monthly data from the EIA reports"
   ],
   "cell_type": "markdown",
   "metadata": {}
  },
  {
   "cell_type": "code",
   "execution_count": 34,
   "metadata": {},
   "outputs": [
    {
     "output_type": "execute_result",
     "data": {
      "text/plain": [
       "   plant_id_camd unit_id_camd    operating_datetime_utc  operating_time_hours  \\\n",
       "0              3            1 2018-01-01 06:00:00+00:00                   1.0   \n",
       "1              3            1 2018-01-01 07:00:00+00:00                   1.0   \n",
       "2              3            1 2018-01-01 08:00:00+00:00                   1.0   \n",
       "\n",
       "   gross_load_mw  steam_load_1000_lbs  so2_mass_lbs  nox_rate_lbs_mmbtu  \\\n",
       "0           27.0                  NaN         4.250               0.082   \n",
       "1           29.0                  NaN         4.402               0.083   \n",
       "2           32.0                  NaN         4.664               0.083   \n",
       "\n",
       "   nox_mass_lbs  co2_mass_tons  heat_content_mmbtu  plant_id_eia  \\\n",
       "0        31.350         22.650          382.399994           3.0   \n",
       "1        32.987         23.562          397.399994           3.0   \n",
       "2        35.902         25.652          432.399994           3.0   \n",
       "\n",
       "          timezone  \n",
       "0  America/Chicago  \n",
       "1  America/Chicago  \n",
       "2  America/Chicago  "
      ],
      "text/html": "<div>\n<style scoped>\n    .dataframe tbody tr th:only-of-type {\n        vertical-align: middle;\n    }\n\n    .dataframe tbody tr th {\n        vertical-align: top;\n    }\n\n    .dataframe thead th {\n        text-align: right;\n    }\n</style>\n<table border=\"1\" class=\"dataframe\">\n  <thead>\n    <tr style=\"text-align: right;\">\n      <th></th>\n      <th>plant_id_camd</th>\n      <th>unit_id_camd</th>\n      <th>operating_datetime_utc</th>\n      <th>operating_time_hours</th>\n      <th>gross_load_mw</th>\n      <th>steam_load_1000_lbs</th>\n      <th>so2_mass_lbs</th>\n      <th>nox_rate_lbs_mmbtu</th>\n      <th>nox_mass_lbs</th>\n      <th>co2_mass_tons</th>\n      <th>heat_content_mmbtu</th>\n      <th>plant_id_eia</th>\n      <th>timezone</th>\n    </tr>\n  </thead>\n  <tbody>\n    <tr>\n      <th>0</th>\n      <td>3</td>\n      <td>1</td>\n      <td>2018-01-01 06:00:00+00:00</td>\n      <td>1.0</td>\n      <td>27.0</td>\n      <td>NaN</td>\n      <td>4.250</td>\n      <td>0.082</td>\n      <td>31.350</td>\n      <td>22.650</td>\n      <td>382.399994</td>\n      <td>3.0</td>\n      <td>America/Chicago</td>\n    </tr>\n    <tr>\n      <th>1</th>\n      <td>3</td>\n      <td>1</td>\n      <td>2018-01-01 07:00:00+00:00</td>\n      <td>1.0</td>\n      <td>29.0</td>\n      <td>NaN</td>\n      <td>4.402</td>\n      <td>0.083</td>\n      <td>32.987</td>\n      <td>23.562</td>\n      <td>397.399994</td>\n      <td>3.0</td>\n      <td>America/Chicago</td>\n    </tr>\n    <tr>\n      <th>2</th>\n      <td>3</td>\n      <td>1</td>\n      <td>2018-01-01 08:00:00+00:00</td>\n      <td>1.0</td>\n      <td>32.0</td>\n      <td>NaN</td>\n      <td>4.664</td>\n      <td>0.083</td>\n      <td>35.902</td>\n      <td>25.652</td>\n      <td>432.399994</td>\n      <td>3.0</td>\n      <td>America/Chicago</td>\n    </tr>\n  </tbody>\n</table>\n</div>"
     },
     "metadata": {},
     "execution_count": 34
    }
   ],
   "source": [
    "# ADD LOCAL TIMEZONE DATA\n",
    "\n",
    "# load information about the time zone for each plant\n",
    "datapkg_path = pudl_settings['datapkg_dir'] + '/to_parquet/epacems-eia/data/'\n",
    "\n",
    "plant_timezones = pd.read_csv((datapkg_path + 'plants_entity_eia.csv'), usecols=['plant_id_eia','timezone'])\n",
    "\n",
    "#merge the tz data into the cems data\n",
    "cems_df = cems_df.merge(plant_timezones, how='left', on='plant_id_eia')\n",
    "\n",
    "# create a report date column to enable matching with the EIA data\n",
    "cems_df['report_month'] = np.NaN\n",
    "\n",
    "for tz in list(cems_df['timezone'].unique()):\n",
    "    tz_mask = cems_df['timezone'] == tz\n",
    "    cems_df.loc[tz_mask, 'report_month'] = cems_df.loc[tz_mask, 'operating_datetime_utc'].dt.tz_convert(tz).dt.month\n",
    "cems_df.head(3)"
   ]
  },
  {
   "source": [
    "## Unit File\n",
    "We want to aggregate the cems data by unit and month so that we can compare it to the EIA-923 data, which is aggregated at the month level. However, while we have the data at the hourly level, we first need to perform a couple of steps:  \n",
    "\n",
    "1. If an observation contains heat input data but is missing CO2, NOx, or SO2 data, we can calculate a replacement value based on \n",
    "\n",
    "2. Since the datetime is in UTC, we need to convert the datetime back into the local tz before aggregating by month. "
   ],
   "cell_type": "markdown",
   "metadata": {}
  },
  {
   "source": [
    "### Assign a primary fuel type to each CAMD unit\n",
    "We use reported fuel heat input data from EIA-923 to determine primary fuel type. We will create a table that matches each CAMD unit to a primary fuel type.\n",
    "However, because there is not a direct 1:1 match between CAMD units and EIA generators/boilers, we use a sequential approach to assign fuel types:\n",
    "\n",
    "1. First, we need to calculate the primary fuel type for each EIA boiler. \n",
    "2. Identify which plants have boilers that all use a single fuel type. We can assign this fuel type as the primary fuel to all units at this plant.\n",
    "2. Next, if there is a 1:1 match between a CAMD unit and EIA boiler\n",
    "3. \n",
    "\n",
    "\n",
    "Determining primary fuel by boiler  \n",
    "1. First determine by boiler\n",
    "2. Then match boiler to generators\n",
    "3. Make sure generator number incorporated in crosswalk\n",
    "4. Try to merge on boiler, then on generator\n"
   ],
   "cell_type": "markdown",
   "metadata": {}
  },
  {
   "cell_type": "code",
   "execution_count": 44,
   "metadata": {},
   "outputs": [
    {
     "output_type": "execute_result",
     "data": {
      "text/plain": [
       "   plant_id_eia boiler_id report_date primary_fuel  report_month\n",
       "0             3         1  2018-01-01           NG             1\n",
       "1             3         2  2018-01-01           NG             1\n",
       "2             3         4  2018-01-01          BIT             1"
      ],
      "text/html": "<div>\n<style scoped>\n    .dataframe tbody tr th:only-of-type {\n        vertical-align: middle;\n    }\n\n    .dataframe tbody tr th {\n        vertical-align: top;\n    }\n\n    .dataframe thead th {\n        text-align: right;\n    }\n</style>\n<table border=\"1\" class=\"dataframe\">\n  <thead>\n    <tr style=\"text-align: right;\">\n      <th></th>\n      <th>plant_id_eia</th>\n      <th>boiler_id</th>\n      <th>report_date</th>\n      <th>primary_fuel</th>\n      <th>report_month</th>\n    </tr>\n  </thead>\n  <tbody>\n    <tr>\n      <th>0</th>\n      <td>3</td>\n      <td>1</td>\n      <td>2018-01-01</td>\n      <td>NG</td>\n      <td>1</td>\n    </tr>\n    <tr>\n      <th>1</th>\n      <td>3</td>\n      <td>2</td>\n      <td>2018-01-01</td>\n      <td>NG</td>\n      <td>1</td>\n    </tr>\n    <tr>\n      <th>2</th>\n      <td>3</td>\n      <td>4</td>\n      <td>2018-01-01</td>\n      <td>BIT</td>\n      <td>1</td>\n    </tr>\n  </tbody>\n</table>\n</div>"
     },
     "metadata": {},
     "execution_count": 44
    }
   ],
   "source": [
    "# Calculate primary fuel for each unit for each month based on eia-923 data\n",
    "datapkg_path = pudl_settings['datapkg_dir'] + '/to_parquet/epacems-eia/data/'\n",
    "\n",
    "boiler_fuel_eia923_df = pd.read_csv((datapkg_path + 'boiler_fuel_eia923.csv'), parse_dates=['report_date'])\n",
    "\n",
    "#only keep data for the current year\n",
    "boiler_fuel_eia923_df = boiler_fuel_eia923_df[boiler_fuel_eia923_df.report_date.dt.year == year]\n",
    "\n",
    "#determine the primary fuel based on the fuel with the maximum mmbtu consumed\n",
    "primary_fuel = egrid.determine_primary_fuel(bf_df=boiler_fuel_eia923_df, fuel_thresh=0.5, level='boiler')\n",
    "primary_fuel['report_month'] = primary_fuel.report_date.dt.month\n",
    "primary_fuel.head(3)"
   ]
  },
  {
   "cell_type": "code",
   "execution_count": null,
   "metadata": {},
   "outputs": [],
   "source": []
  },
  {
   "source": [
    "### Calculate missing CO2 data\n",
    "1. Merge primary fuel type information\n",
    "2. Load emission factors for CO2\n",
    "3. Calculate missing CO2 mass"
   ],
   "cell_type": "markdown",
   "metadata": {}
  },
  {
   "cell_type": "code",
   "execution_count": 45,
   "metadata": {},
   "outputs": [
    {
     "output_type": "execute_result",
     "data": {
      "text/plain": [
       "   plant_id_camd unit_id_camd    operating_datetime_utc  operating_time_hours  \\\n",
       "0              3            1 2018-01-01 06:00:00+00:00                   1.0   \n",
       "1              3            1 2018-01-01 07:00:00+00:00                   1.0   \n",
       "2              3            1 2018-01-01 08:00:00+00:00                   1.0   \n",
       "\n",
       "   gross_load_mw  steam_load_1000_lbs  so2_mass_lbs  nox_rate_lbs_mmbtu  \\\n",
       "0           27.0                  NaN         4.250               0.082   \n",
       "1           29.0                  NaN         4.402               0.083   \n",
       "2           32.0                  NaN         4.664               0.083   \n",
       "\n",
       "   nox_mass_lbs  co2_mass_tons  heat_content_mmbtu  plant_id_eia  \\\n",
       "0        31.350         22.650          382.399994           3.0   \n",
       "1        32.987         23.562          397.399994           3.0   \n",
       "2        35.902         25.652          432.399994           3.0   \n",
       "\n",
       "          timezone  report_date_x  report_month boiler_id report_date_y  \\\n",
       "0  America/Chicago            1.0           1.0         1    2018-01-01   \n",
       "1  America/Chicago            1.0           1.0         1    2018-01-01   \n",
       "2  America/Chicago            1.0           1.0         1    2018-01-01   \n",
       "\n",
       "  primary_fuel  \n",
       "0           NG  \n",
       "1           NG  \n",
       "2           NG  "
      ],
      "text/html": "<div>\n<style scoped>\n    .dataframe tbody tr th:only-of-type {\n        vertical-align: middle;\n    }\n\n    .dataframe tbody tr th {\n        vertical-align: top;\n    }\n\n    .dataframe thead th {\n        text-align: right;\n    }\n</style>\n<table border=\"1\" class=\"dataframe\">\n  <thead>\n    <tr style=\"text-align: right;\">\n      <th></th>\n      <th>plant_id_camd</th>\n      <th>unit_id_camd</th>\n      <th>operating_datetime_utc</th>\n      <th>operating_time_hours</th>\n      <th>gross_load_mw</th>\n      <th>steam_load_1000_lbs</th>\n      <th>so2_mass_lbs</th>\n      <th>nox_rate_lbs_mmbtu</th>\n      <th>nox_mass_lbs</th>\n      <th>co2_mass_tons</th>\n      <th>heat_content_mmbtu</th>\n      <th>plant_id_eia</th>\n      <th>timezone</th>\n      <th>report_date_x</th>\n      <th>report_month</th>\n      <th>boiler_id</th>\n      <th>report_date_y</th>\n      <th>primary_fuel</th>\n    </tr>\n  </thead>\n  <tbody>\n    <tr>\n      <th>0</th>\n      <td>3</td>\n      <td>1</td>\n      <td>2018-01-01 06:00:00+00:00</td>\n      <td>1.0</td>\n      <td>27.0</td>\n      <td>NaN</td>\n      <td>4.250</td>\n      <td>0.082</td>\n      <td>31.350</td>\n      <td>22.650</td>\n      <td>382.399994</td>\n      <td>3.0</td>\n      <td>America/Chicago</td>\n      <td>1.0</td>\n      <td>1.0</td>\n      <td>1</td>\n      <td>2018-01-01</td>\n      <td>NG</td>\n    </tr>\n    <tr>\n      <th>1</th>\n      <td>3</td>\n      <td>1</td>\n      <td>2018-01-01 07:00:00+00:00</td>\n      <td>1.0</td>\n      <td>29.0</td>\n      <td>NaN</td>\n      <td>4.402</td>\n      <td>0.083</td>\n      <td>32.987</td>\n      <td>23.562</td>\n      <td>397.399994</td>\n      <td>3.0</td>\n      <td>America/Chicago</td>\n      <td>1.0</td>\n      <td>1.0</td>\n      <td>1</td>\n      <td>2018-01-01</td>\n      <td>NG</td>\n    </tr>\n    <tr>\n      <th>2</th>\n      <td>3</td>\n      <td>1</td>\n      <td>2018-01-01 08:00:00+00:00</td>\n      <td>1.0</td>\n      <td>32.0</td>\n      <td>NaN</td>\n      <td>4.664</td>\n      <td>0.083</td>\n      <td>35.902</td>\n      <td>25.652</td>\n      <td>432.399994</td>\n      <td>3.0</td>\n      <td>America/Chicago</td>\n      <td>1.0</td>\n      <td>1.0</td>\n      <td>1</td>\n      <td>2018-01-01</td>\n      <td>NG</td>\n    </tr>\n  </tbody>\n</table>\n</div>"
     },
     "metadata": {},
     "execution_count": 45
    }
   ],
   "source": [
    "#merge primary fuel data into cems\n",
    "# TODO: Need to check if unit_id_camd needs to be crosswalked with the eia boiler_id\n",
    "cems_df = cems_df.merge(primary_fuel, how='left', left_on=['plant_id_eia','unit_id_camd','report_month'], right_on=['plant_id_eia','boiler_id','report_month'])\n",
    "cems_df.head(3)"
   ]
  },
  {
   "cell_type": "code",
   "execution_count": null,
   "metadata": {},
   "outputs": [],
   "source": []
  },
  {
   "cell_type": "code",
   "execution_count": 47,
   "metadata": {},
   "outputs": [
    {
     "output_type": "stream",
     "name": "stdout",
     "text": [
      "There are 1528334 observations with missing CO2 values\n",
      "After calculating CO2 from heat rate, there are 1528282 observations with missing CO2 values\n"
     ]
    }
   ],
   "source": [
    "# load the CO2 emission factors and fill missing values\n",
    "CO2_Emission_Factors = pd.read_csv(importlib.resources.open_binary(\n",
    "        'pudl.package_data.epa.egrid', 'table_C1_emission_factors_for_CO2_CH4_N2O.csv'), usecols=['EIA Fuel Type Code','CO2 EF (ton CO2/mmBtu)'])\n",
    "\n",
    "missing = cems_df[cems_df['co2_mass_tons'].isnull()]\n",
    "print(f'There are {len(missing)} observations with missing CO2 values')\n",
    "\n",
    "# add emission factor to missing df\n",
    "missing = missing.merge(CO2_Emission_Factors, how='left',\n",
    "                        left_on='primary_fuel', right_on='EIA Fuel Type Code')\n",
    "# calculate missing co2 data\n",
    "missing['co2_mass_tons'] = missing['heat_content_mmbtu'] * missing['CO2 EF (ton CO2/mmBtu)']\n",
    "\n",
    "# update the main df with the missing data\n",
    "#cems_df['co2_mass_tons'].update(missing['co2_mass_tons'])\n",
    "\n",
    "#print(f'After calculating CO2 from heat rate, there are {len(cems_df[cems_df.co2_mass_tons.isnull()])} observations with missing CO2 values')"
   ]
  },
  {
   "cell_type": "code",
   "execution_count": 48,
   "metadata": {},
   "outputs": [
    {
     "output_type": "execute_result",
     "data": {
      "text/plain": [
       "   plant_id_camd unit_id_camd    operating_datetime_utc  operating_time_hours  \\\n",
       "0              3           6B 2018-01-12 04:00:00+00:00                  0.25   \n",
       "1             26            2 2018-01-09 00:00:00+00:00                  0.25   \n",
       "2          52140         Z006 2018-01-01 06:00:00+00:00                  1.00   \n",
       "3          52140         Z006 2018-01-01 07:00:00+00:00                  1.00   \n",
       "4          52140         Z006 2018-01-01 08:00:00+00:00                  1.00   \n",
       "\n",
       "   gross_load_mw  steam_load_1000_lbs  so2_mass_lbs  nox_rate_lbs_mmbtu  \\\n",
       "0            1.0                  NaN          0.00               0.012   \n",
       "1            4.0                  NaN          2.05               0.000   \n",
       "2            0.0                283.0           NaN               0.328   \n",
       "3            0.0                280.0           NaN               0.335   \n",
       "4            0.0                262.0           NaN               0.347   \n",
       "\n",
       "   nox_mass_lbs  co2_mass_tons  heat_content_mmbtu  plant_id_eia  \\\n",
       "0      0.000000        0.00000            0.000000           3.0   \n",
       "1      0.000000        0.02574            0.250000          26.0   \n",
       "2    111.900002            NaN          341.500000       52140.0   \n",
       "3    115.099998            NaN          344.000000       52140.0   \n",
       "4    114.699997            NaN          330.899994       52140.0   \n",
       "\n",
       "          timezone  report_date_x  report_month boiler_id report_date_y  \\\n",
       "0  America/Chicago            1.0           1.0        6B    2018-01-01   \n",
       "1  America/Chicago            1.0           1.0         2    2018-01-01   \n",
       "2  America/Chicago            1.0           1.0       NaN           NaT   \n",
       "3  America/Chicago            1.0           1.0       NaN           NaT   \n",
       "4  America/Chicago            1.0           1.0       NaN           NaT   \n",
       "\n",
       "  primary_fuel EIA Fuel Type Code  CO2 EF (ton CO2/mmBtu)  \n",
       "0           NG                 NG                 0.05844  \n",
       "1          BIT                BIT                 0.10296  \n",
       "2          NaN                NaN                     NaN  \n",
       "3          NaN                NaN                     NaN  \n",
       "4          NaN                NaN                     NaN  "
      ],
      "text/html": "<div>\n<style scoped>\n    .dataframe tbody tr th:only-of-type {\n        vertical-align: middle;\n    }\n\n    .dataframe tbody tr th {\n        vertical-align: top;\n    }\n\n    .dataframe thead th {\n        text-align: right;\n    }\n</style>\n<table border=\"1\" class=\"dataframe\">\n  <thead>\n    <tr style=\"text-align: right;\">\n      <th></th>\n      <th>plant_id_camd</th>\n      <th>unit_id_camd</th>\n      <th>operating_datetime_utc</th>\n      <th>operating_time_hours</th>\n      <th>gross_load_mw</th>\n      <th>steam_load_1000_lbs</th>\n      <th>so2_mass_lbs</th>\n      <th>nox_rate_lbs_mmbtu</th>\n      <th>nox_mass_lbs</th>\n      <th>co2_mass_tons</th>\n      <th>heat_content_mmbtu</th>\n      <th>plant_id_eia</th>\n      <th>timezone</th>\n      <th>report_date_x</th>\n      <th>report_month</th>\n      <th>boiler_id</th>\n      <th>report_date_y</th>\n      <th>primary_fuel</th>\n      <th>EIA Fuel Type Code</th>\n      <th>CO2 EF (ton CO2/mmBtu)</th>\n    </tr>\n  </thead>\n  <tbody>\n    <tr>\n      <th>0</th>\n      <td>3</td>\n      <td>6B</td>\n      <td>2018-01-12 04:00:00+00:00</td>\n      <td>0.25</td>\n      <td>1.0</td>\n      <td>NaN</td>\n      <td>0.00</td>\n      <td>0.012</td>\n      <td>0.000000</td>\n      <td>0.00000</td>\n      <td>0.000000</td>\n      <td>3.0</td>\n      <td>America/Chicago</td>\n      <td>1.0</td>\n      <td>1.0</td>\n      <td>6B</td>\n      <td>2018-01-01</td>\n      <td>NG</td>\n      <td>NG</td>\n      <td>0.05844</td>\n    </tr>\n    <tr>\n      <th>1</th>\n      <td>26</td>\n      <td>2</td>\n      <td>2018-01-09 00:00:00+00:00</td>\n      <td>0.25</td>\n      <td>4.0</td>\n      <td>NaN</td>\n      <td>2.05</td>\n      <td>0.000</td>\n      <td>0.000000</td>\n      <td>0.02574</td>\n      <td>0.250000</td>\n      <td>26.0</td>\n      <td>America/Chicago</td>\n      <td>1.0</td>\n      <td>1.0</td>\n      <td>2</td>\n      <td>2018-01-01</td>\n      <td>BIT</td>\n      <td>BIT</td>\n      <td>0.10296</td>\n    </tr>\n    <tr>\n      <th>2</th>\n      <td>52140</td>\n      <td>Z006</td>\n      <td>2018-01-01 06:00:00+00:00</td>\n      <td>1.00</td>\n      <td>0.0</td>\n      <td>283.0</td>\n      <td>NaN</td>\n      <td>0.328</td>\n      <td>111.900002</td>\n      <td>NaN</td>\n      <td>341.500000</td>\n      <td>52140.0</td>\n      <td>America/Chicago</td>\n      <td>1.0</td>\n      <td>1.0</td>\n      <td>NaN</td>\n      <td>NaT</td>\n      <td>NaN</td>\n      <td>NaN</td>\n      <td>NaN</td>\n    </tr>\n    <tr>\n      <th>3</th>\n      <td>52140</td>\n      <td>Z006</td>\n      <td>2018-01-01 07:00:00+00:00</td>\n      <td>1.00</td>\n      <td>0.0</td>\n      <td>280.0</td>\n      <td>NaN</td>\n      <td>0.335</td>\n      <td>115.099998</td>\n      <td>NaN</td>\n      <td>344.000000</td>\n      <td>52140.0</td>\n      <td>America/Chicago</td>\n      <td>1.0</td>\n      <td>1.0</td>\n      <td>NaN</td>\n      <td>NaT</td>\n      <td>NaN</td>\n      <td>NaN</td>\n      <td>NaN</td>\n    </tr>\n    <tr>\n      <th>4</th>\n      <td>52140</td>\n      <td>Z006</td>\n      <td>2018-01-01 08:00:00+00:00</td>\n      <td>1.00</td>\n      <td>0.0</td>\n      <td>262.0</td>\n      <td>NaN</td>\n      <td>0.347</td>\n      <td>114.699997</td>\n      <td>NaN</td>\n      <td>330.899994</td>\n      <td>52140.0</td>\n      <td>America/Chicago</td>\n      <td>1.0</td>\n      <td>1.0</td>\n      <td>NaN</td>\n      <td>NaT</td>\n      <td>NaN</td>\n      <td>NaN</td>\n      <td>NaN</td>\n    </tr>\n  </tbody>\n</table>\n</div>"
     },
     "metadata": {},
     "execution_count": 48
    }
   ],
   "source": [
    "missing.head(5)"
   ]
  },
  {
   "source": [
    "### Calculate missing NOx data\n",
    "1. Merge information about prime mover and boiler firing type\n"
   ],
   "cell_type": "markdown",
   "metadata": {}
  },
  {
   "cell_type": "code",
   "execution_count": null,
   "metadata": {},
   "outputs": [],
   "source": [
    "# CALCULATE MISSING NOX DATA"
   ]
  },
  {
   "cell_type": "code",
   "execution_count": null,
   "metadata": {},
   "outputs": [],
   "source": [
    "# CALCULATE MISSING SO2 DATA"
   ]
  },
  {
   "cell_type": "code",
   "execution_count": 59,
   "metadata": {},
   "outputs": [
    {
     "output_type": "execute_result",
     "data": {
      "text/plain": [
       "          plant_id_camd unit_id_camd    operating_datetime_utc  \\\n",
       "3004                  3           6B 2018-01-12 04:00:00+00:00   \n",
       "9334                 26            2 2018-01-09 00:00:00+00:00   \n",
       "27866             52140         Z006 2018-01-01 06:00:00+00:00   \n",
       "27867             52140         Z006 2018-01-01 07:00:00+00:00   \n",
       "27868             52140         Z006 2018-01-01 08:00:00+00:00   \n",
       "...                 ...          ...                       ...   \n",
       "13940352           4158         BW43 2018-11-03 18:00:00+00:00   \n",
       "13940353           4158         BW43 2018-11-05 14:00:00+00:00   \n",
       "13940990           4158         BW44 2018-11-02 06:00:00+00:00   \n",
       "13943698           6101         BW91 2018-11-29 02:00:00+00:00   \n",
       "13953416           4158         BW41 2018-12-20 19:00:00+00:00   \n",
       "\n",
       "          operating_time_hours  gross_load_mw  steam_load_1000_lbs  \\\n",
       "3004                      0.25            1.0                  NaN   \n",
       "9334                      0.25            4.0                  NaN   \n",
       "27866                     1.00            0.0                283.0   \n",
       "27867                     1.00            0.0                280.0   \n",
       "27868                     1.00            0.0                262.0   \n",
       "...                        ...            ...                  ...   \n",
       "13940352                  0.23            0.0                  NaN   \n",
       "13940353                  0.07            0.0                  NaN   \n",
       "13940990                  0.15            0.0                  NaN   \n",
       "13943698                  0.33            0.0                  NaN   \n",
       "13953416                  0.02            0.0                  NaN   \n",
       "\n",
       "          so2_mass_lbs  nox_rate_lbs_mmbtu  nox_mass_lbs  co2_mass_tons  \\\n",
       "3004              0.00               0.012      0.000000            NaN   \n",
       "9334              2.05               0.000      0.000000            NaN   \n",
       "27866              NaN               0.328    111.900002            NaN   \n",
       "27867              NaN               0.335    115.099998            NaN   \n",
       "27868              NaN               0.347    114.699997            NaN   \n",
       "...                ...                 ...           ...            ...   \n",
       "13940352          0.00               0.007      0.002000            NaN   \n",
       "13940353          0.00               0.000      0.000000            NaN   \n",
       "13940990          0.06               0.002      0.000000            NaN   \n",
       "13943698          0.00               0.000      0.000000            NaN   \n",
       "13953416          0.00               0.000      0.000000            NaN   \n",
       "\n",
       "          heat_content_mmbtu  unit_id_epa  plant_id_eia         timezone  \\\n",
       "3004                0.000000            7           3.0  America/Chicago   \n",
       "9334                0.250000           31          26.0  America/Chicago   \n",
       "27866             341.500000        88248       52140.0  America/Chicago   \n",
       "27867             344.000000        88248       52140.0  America/Chicago   \n",
       "27868             330.899994        88248       52140.0  America/Chicago   \n",
       "...                      ...          ...           ...              ...   \n",
       "13940352            0.230000         2635        4158.0   America/Denver   \n",
       "13940353            0.070000         2635        4158.0   America/Denver   \n",
       "13940990            0.150000         2636        4158.0   America/Denver   \n",
       "13943698            0.330000         2777        6101.0   America/Denver   \n",
       "13953416            0.020000         2633        4158.0   America/Denver   \n",
       "\n",
       "           operating_datetime_local  \n",
       "3004      2018-01-11 22:00:00-06:00  \n",
       "9334      2018-01-08 18:00:00-06:00  \n",
       "27866     2018-01-01 00:00:00-06:00  \n",
       "27867     2018-01-01 01:00:00-06:00  \n",
       "27868     2018-01-01 02:00:00-06:00  \n",
       "...                             ...  \n",
       "13940352  2018-11-03 12:00:00-06:00  \n",
       "13940353  2018-11-05 07:00:00-07:00  \n",
       "13940990  2018-11-02 00:00:00-06:00  \n",
       "13943698  2018-11-28 19:00:00-07:00  \n",
       "13953416  2018-12-20 12:00:00-07:00  \n",
       "\n",
       "[1528334 rows x 15 columns]"
      ],
      "text/html": "<div>\n<style scoped>\n    .dataframe tbody tr th:only-of-type {\n        vertical-align: middle;\n    }\n\n    .dataframe tbody tr th {\n        vertical-align: top;\n    }\n\n    .dataframe thead th {\n        text-align: right;\n    }\n</style>\n<table border=\"1\" class=\"dataframe\">\n  <thead>\n    <tr style=\"text-align: right;\">\n      <th></th>\n      <th>plant_id_camd</th>\n      <th>unit_id_camd</th>\n      <th>operating_datetime_utc</th>\n      <th>operating_time_hours</th>\n      <th>gross_load_mw</th>\n      <th>steam_load_1000_lbs</th>\n      <th>so2_mass_lbs</th>\n      <th>nox_rate_lbs_mmbtu</th>\n      <th>nox_mass_lbs</th>\n      <th>co2_mass_tons</th>\n      <th>heat_content_mmbtu</th>\n      <th>unit_id_epa</th>\n      <th>plant_id_eia</th>\n      <th>timezone</th>\n      <th>operating_datetime_local</th>\n    </tr>\n  </thead>\n  <tbody>\n    <tr>\n      <th>3004</th>\n      <td>3</td>\n      <td>6B</td>\n      <td>2018-01-12 04:00:00+00:00</td>\n      <td>0.25</td>\n      <td>1.0</td>\n      <td>NaN</td>\n      <td>0.00</td>\n      <td>0.012</td>\n      <td>0.000000</td>\n      <td>NaN</td>\n      <td>0.000000</td>\n      <td>7</td>\n      <td>3.0</td>\n      <td>America/Chicago</td>\n      <td>2018-01-11 22:00:00-06:00</td>\n    </tr>\n    <tr>\n      <th>9334</th>\n      <td>26</td>\n      <td>2</td>\n      <td>2018-01-09 00:00:00+00:00</td>\n      <td>0.25</td>\n      <td>4.0</td>\n      <td>NaN</td>\n      <td>2.05</td>\n      <td>0.000</td>\n      <td>0.000000</td>\n      <td>NaN</td>\n      <td>0.250000</td>\n      <td>31</td>\n      <td>26.0</td>\n      <td>America/Chicago</td>\n      <td>2018-01-08 18:00:00-06:00</td>\n    </tr>\n    <tr>\n      <th>27866</th>\n      <td>52140</td>\n      <td>Z006</td>\n      <td>2018-01-01 06:00:00+00:00</td>\n      <td>1.00</td>\n      <td>0.0</td>\n      <td>283.0</td>\n      <td>NaN</td>\n      <td>0.328</td>\n      <td>111.900002</td>\n      <td>NaN</td>\n      <td>341.500000</td>\n      <td>88248</td>\n      <td>52140.0</td>\n      <td>America/Chicago</td>\n      <td>2018-01-01 00:00:00-06:00</td>\n    </tr>\n    <tr>\n      <th>27867</th>\n      <td>52140</td>\n      <td>Z006</td>\n      <td>2018-01-01 07:00:00+00:00</td>\n      <td>1.00</td>\n      <td>0.0</td>\n      <td>280.0</td>\n      <td>NaN</td>\n      <td>0.335</td>\n      <td>115.099998</td>\n      <td>NaN</td>\n      <td>344.000000</td>\n      <td>88248</td>\n      <td>52140.0</td>\n      <td>America/Chicago</td>\n      <td>2018-01-01 01:00:00-06:00</td>\n    </tr>\n    <tr>\n      <th>27868</th>\n      <td>52140</td>\n      <td>Z006</td>\n      <td>2018-01-01 08:00:00+00:00</td>\n      <td>1.00</td>\n      <td>0.0</td>\n      <td>262.0</td>\n      <td>NaN</td>\n      <td>0.347</td>\n      <td>114.699997</td>\n      <td>NaN</td>\n      <td>330.899994</td>\n      <td>88248</td>\n      <td>52140.0</td>\n      <td>America/Chicago</td>\n      <td>2018-01-01 02:00:00-06:00</td>\n    </tr>\n    <tr>\n      <th>...</th>\n      <td>...</td>\n      <td>...</td>\n      <td>...</td>\n      <td>...</td>\n      <td>...</td>\n      <td>...</td>\n      <td>...</td>\n      <td>...</td>\n      <td>...</td>\n      <td>...</td>\n      <td>...</td>\n      <td>...</td>\n      <td>...</td>\n      <td>...</td>\n      <td>...</td>\n    </tr>\n    <tr>\n      <th>13940352</th>\n      <td>4158</td>\n      <td>BW43</td>\n      <td>2018-11-03 18:00:00+00:00</td>\n      <td>0.23</td>\n      <td>0.0</td>\n      <td>NaN</td>\n      <td>0.00</td>\n      <td>0.007</td>\n      <td>0.002000</td>\n      <td>NaN</td>\n      <td>0.230000</td>\n      <td>2635</td>\n      <td>4158.0</td>\n      <td>America/Denver</td>\n      <td>2018-11-03 12:00:00-06:00</td>\n    </tr>\n    <tr>\n      <th>13940353</th>\n      <td>4158</td>\n      <td>BW43</td>\n      <td>2018-11-05 14:00:00+00:00</td>\n      <td>0.07</td>\n      <td>0.0</td>\n      <td>NaN</td>\n      <td>0.00</td>\n      <td>0.000</td>\n      <td>0.000000</td>\n      <td>NaN</td>\n      <td>0.070000</td>\n      <td>2635</td>\n      <td>4158.0</td>\n      <td>America/Denver</td>\n      <td>2018-11-05 07:00:00-07:00</td>\n    </tr>\n    <tr>\n      <th>13940990</th>\n      <td>4158</td>\n      <td>BW44</td>\n      <td>2018-11-02 06:00:00+00:00</td>\n      <td>0.15</td>\n      <td>0.0</td>\n      <td>NaN</td>\n      <td>0.06</td>\n      <td>0.002</td>\n      <td>0.000000</td>\n      <td>NaN</td>\n      <td>0.150000</td>\n      <td>2636</td>\n      <td>4158.0</td>\n      <td>America/Denver</td>\n      <td>2018-11-02 00:00:00-06:00</td>\n    </tr>\n    <tr>\n      <th>13943698</th>\n      <td>6101</td>\n      <td>BW91</td>\n      <td>2018-11-29 02:00:00+00:00</td>\n      <td>0.33</td>\n      <td>0.0</td>\n      <td>NaN</td>\n      <td>0.00</td>\n      <td>0.000</td>\n      <td>0.000000</td>\n      <td>NaN</td>\n      <td>0.330000</td>\n      <td>2777</td>\n      <td>6101.0</td>\n      <td>America/Denver</td>\n      <td>2018-11-28 19:00:00-07:00</td>\n    </tr>\n    <tr>\n      <th>13953416</th>\n      <td>4158</td>\n      <td>BW41</td>\n      <td>2018-12-20 19:00:00+00:00</td>\n      <td>0.02</td>\n      <td>0.0</td>\n      <td>NaN</td>\n      <td>0.00</td>\n      <td>0.000</td>\n      <td>0.000000</td>\n      <td>NaN</td>\n      <td>0.020000</td>\n      <td>2633</td>\n      <td>4158.0</td>\n      <td>America/Denver</td>\n      <td>2018-12-20 12:00:00-07:00</td>\n    </tr>\n  </tbody>\n</table>\n<p>1528334 rows × 15 columns</p>\n</div>"
     },
     "metadata": {},
     "execution_count": 59
    }
   ],
   "source": [
    "cems_df[cems_df['co2_mass_tons'].isnull()]"
   ]
  }
 ]
}
